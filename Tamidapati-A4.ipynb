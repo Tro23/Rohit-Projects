{
 "cells": [
  {
   "cell_type": "markdown",
   "metadata": {},
   "source": [
    "# A4 Convolutional Neural Networks\n",
    "\n",
    "*by Chuck Anderson for [CS545: Machine Learning](https://www.cs.colostate.edu/~anderson/cs545) at Colorado State University*\n"
   ]
  },
  {
   "cell_type": "markdown",
   "metadata": {},
   "source": [
    "#### Defining the NeuralNetwork_Convolution Class."
   ]
  },
  {
   "cell_type": "code",
   "execution_count": 1,
   "metadata": {},
   "outputs": [],
   "source": [
    "import numpy as np\n",
    "import torch\n",
    "import time\n",
    "import copy\n",
    "import sys\n",
    "\n",
    "\n",
    "class NeuralNetwork_Convolutional():\n",
    "    \n",
    "    def __init__(self, n_channels_in_image, image_size,\n",
    "                 n_units_in_conv_layers, kernels_size_and_stride,\n",
    "                 n_units_in_fc_hidden_layers,\n",
    "                 classes, use_gpu=False):\n",
    "\n",
    "        if not isinstance(n_units_in_conv_layers, list):\n",
    "            raise Exception('n_units_in_conv_layers must be a list')\n",
    "\n",
    "        if not isinstance(n_units_in_fc_hidden_layers, list):\n",
    "            raise Exception('n_units_in_fc_hidden_layers must be a list')\n",
    "        \n",
    "        if use_gpu and not torch.cuda.is_available():\n",
    "            print('\\nGPU is not available. Running on CPU.\\n')\n",
    "            use_gpu = False\n",
    "\n",
    "        self.n_channels_in_image = n_channels_in_image\n",
    "        self.image_size = image_size \n",
    "        self.n_units_in_conv_layers = n_units_in_conv_layers\n",
    "        self.n_units_in_fc_hidden_layers = n_units_in_fc_hidden_layers\n",
    "        self.kernels_size_and_stride = kernels_size_and_stride\n",
    "        self.n_outputs = len(classes)\n",
    "        self.classes = np.array(classes)\n",
    "        self.use_gpu = use_gpu\n",
    "        \n",
    "        self.n_conv_layers = len(self.n_units_in_conv_layers)\n",
    "        self.n_fc_hidden_layers = len(self.n_units_in_fc_hidden_layers)\n",
    "\n",
    "        \n",
    "        self.nnet = torch.nn.Sequential()\n",
    "\n",
    "        # Adding convolutional layers\n",
    "\n",
    "        n_units_previous = self.n_channels_in_image\n",
    "        output_size_previous = self.image_size\n",
    "        n_layers = 0\n",
    "        if self.n_conv_layers > 0:\n",
    "\n",
    "            for (n_units, kernel) in zip(self.n_units_in_conv_layers, self.kernels_size_and_stride):\n",
    "                n_units_previous, output_size_previous = self._add_conv2d_tanh(n_layers,\n",
    "                                        n_units_previous, output_size_previous, n_units, kernel)\n",
    "                n_layers += 1 \n",
    "                \n",
    "        #Fully connected layers\n",
    "        \n",
    "        self.nnet.add_module('flatten', torch.nn.Flatten())  \n",
    "\n",
    "        n_inputs = output_size_previous ** 2 * n_units_previous\n",
    "        if self.n_fc_hidden_layers > 0:\n",
    "            for n_units in self.n_units_in_fc_hidden_layers:\n",
    "                n_inputs = self._add_fc_tanh(n_layers, n_inputs, n_units)\n",
    "                n_layers += 1\n",
    "\n",
    "        self.nnet.add_module(f'output_{n_layers}', torch.nn.Linear(n_inputs, self.n_outputs))\n",
    "\n",
    "        # Standardization\n",
    "        self.Xmeans = None\n",
    "        self.Xstds = None\n",
    "\n",
    "        if self.use_gpu:\n",
    "            self.nnet.cuda()\n",
    "\n",
    "        self.n_epochs = 0\n",
    "        self.error_trace = []\n",
    "\n",
    "    def _add_conv2d_tanh(self, n_layers, n_units_previous, output_size_previous,\n",
    "                   n_units, kernel_size_and_stride):\n",
    "        kernel_size, kernel_stride = kernel_size_and_stride\n",
    "        self.nnet.add_module(f'conv_{n_layers}', torch.nn.Conv2d(n_units_previous, n_units,\n",
    "                                                                 kernel_size, kernel_stride))\n",
    "        self.nnet.add_module(f'output_{n_layers}', torch.nn.Tanh())\n",
    "        output_size_previous = (output_size_previous - kernel_size) // kernel_stride + 1\n",
    "        n_units_previous = n_units                \n",
    "        return n_units_previous, output_size_previous\n",
    "    \n",
    "    def _add_fc_tanh(self, n_layers, n_inputs, n_units):\n",
    "        self.nnet.add_module(f'linear_{n_layers}', torch.nn.Linear(n_inputs, n_units))\n",
    "        self.nnet.add_module(f'output_{n_layers}', torch.nn.Tanh())\n",
    "        n_inputs = n_units\n",
    "        return n_inputs\n",
    "\n",
    "    def __repr__(self):\n",
    "        str = f'''{type(self).__name__}(\n",
    "                            n_channels_in_image={self.n_channels_in_image},\n",
    "                            image_size={self.image_size},\n",
    "                            n_units_in_conv_layers={self.n_units_in_conv_layers},\n",
    "                            kernels_size_and_stride={self.kernels_size_and_stride},\n",
    "                            n_units_in_fc_hidden_layers={self.n_units_in_fc_hidden_layers},\n",
    "                            classes={self.classes},\n",
    "                            use_gpu={self.use_gpu})'''\n",
    "\n",
    "        str += self.nnet\n",
    "        if self.n_epochs > 0:\n",
    "            str += f'\\n   Network was trained for {self.n_epochs} epochs that took {self.training_time:.4f} seconds.'\n",
    "            str += f'\\n   Final objective value is {self.error_trace[-1]:.3f}'\n",
    "        else:\n",
    "            str += '  Network is not trained.'\n",
    "        return str\n",
    "        \n",
    "    def _standardizeX(self, X):\n",
    "        result = (X - self.Xmeans) / self.XstdsFixed\n",
    "        result[:, self.Xconstant] = 0.0\n",
    "        return result\n",
    "\n",
    "    def _unstandardizeX(self, Xs):\n",
    "        return self.Xstds * Xs + self.Xmeans\n",
    "\n",
    "    def _setup_standardize(self, X, T):\n",
    "        if self.Xmeans is None:\n",
    "            self.Xmeans = X.mean(axis=0)\n",
    "            self.Xstds = X.std(axis=0)\n",
    "            self.Xconstant = self.Xstds == 0\n",
    "            self.XstdsFixed = copy.copy(self.Xstds)\n",
    "            self.XstdsFixed[self.Xconstant] = 1\n",
    "\n",
    "    def train(self, X, T, n_epochs, learning_rate=0.01):\n",
    "\n",
    "        start_time = time.time()\n",
    "        \n",
    "        self.learning_rate = learning_rate\n",
    "\n",
    "        if T.ndim == 1:\n",
    "            T = T.reshape((-1, 1))\n",
    "\n",
    "        _, T = np.where(T == self.classes)  \n",
    "\n",
    "        self._setup_standardize(X, T)\n",
    "        X = self._standardizeX(X)\n",
    "\n",
    "        X = torch.tensor(X)\n",
    "    \n",
    "        T = torch.tensor(T.reshape(-1))\n",
    "        if self.use_gpu:\n",
    "            X = X.cuda()\n",
    "            T = T.cuda()\n",
    "\n",
    "        loss_F = torch.nn.CrossEntropyLoss()\n",
    "        optimizer = torch.optim.Adam(self.nnet.parameters(), lr=learning_rate)\n",
    "\n",
    "        for epoch in range(n_epochs):\n",
    "            optimizer.zero_grad()\n",
    "        \n",
    "            Y = self.nnet(X)\n",
    "            error = loss_F(Y, T)\n",
    "            self.error_trace.append(error)\n",
    "            error.backward()\n",
    "            optimizer.step()\n",
    "            \n",
    "        if epoch % 50 == 0:\n",
    "            print(f'Epoch {epoch} error {error}')\n",
    "        \n",
    "        end_time = time.time()\n",
    "        self.training_time = end_time - start_time\n",
    " \n",
    "            \n",
    "    def get_error_trace(self):\n",
    "        return self.error_trace\n",
    "    \n",
    "    def _softmax(self, Y):\n",
    "        mx = Y.max()\n",
    "        expY = np.exp(Y - mx)\n",
    "        denom = expY.sum(axis=1).reshape((-1, 1)) + sys.float_info.epsilon\n",
    "        return expY / denom\n",
    "    \n",
    "    def use(self, X):\n",
    "        self.nnet.eval()  \n",
    "        X = self._standardizeX(X)\n",
    "        X = torch.tensor(X)\n",
    "        if self.use_gpu:\n",
    "            X = X.cuda()\n",
    "\n",
    "        Y = self.nnet(X)\n",
    "\n",
    "        if self.use_gpu:\n",
    "            Y = Y.cpu()\n",
    "        Y = Y.detach().numpy()\n",
    "        Yclasses = self.classes[Y.argmax(axis=1)].reshape((-1, 1))\n",
    "\n",
    "        return Yclasses, self._softmax(Y)"
   ]
  },
  {
   "cell_type": "markdown",
   "metadata": {},
   "source": [
    "## Simple Example with Squares and Diamonds\n",
    "\n",
    "Repeating the example from lecture notes."
   ]
  },
  {
   "cell_type": "code",
   "execution_count": 2,
   "metadata": {},
   "outputs": [],
   "source": [
    "import matplotlib.pyplot as plt"
   ]
  },
  {
   "cell_type": "code",
   "execution_count": 3,
   "metadata": {},
   "outputs": [
    {
     "data": {
      "text/plain": [
       "((1000, 1, 20, 20), (1000, 1), (20, 1, 20, 20), (20, 1))"
      ]
     },
     "execution_count": 3,
     "metadata": {},
     "output_type": "execute_result"
    }
   ],
   "source": [
    "def make_images(nEach):\n",
    "    images = np.zeros((nEach * 2, 1, 20, 20))  # nSamples, nChannels, rows, columns\n",
    "    radii = 3 + np.random.randint(10 - 5, size=(nEach * 2, 1))\n",
    "    centers = np.zeros((nEach * 2, 2))\n",
    "    for i in range(nEach * 2):\n",
    "        r = radii[i, 0]\n",
    "        centers[i, :] = r + 1 + np.random.randint(18 - 2 * r, size=(1, 2))\n",
    "        x = int(centers[i, 0])\n",
    "        y = int(centers[i, 1])\n",
    "        if i < nEach:\n",
    "            # squares\n",
    "            images[i, 0, x - r:x + r, y + r] = 1.0\n",
    "            images[i, 0, x - r:x + r, y - r] = 1.0\n",
    "            images[i, 0, x - r, y - r:y + r] = 1.0\n",
    "            images[i, 0, x + r, y - r:y + r + 1] = 1.0\n",
    "        else:\n",
    "            # diamonds\n",
    "            images[i, 0, range(x - r, x), range(y, y + r)] = 1.0\n",
    "            images[i, 0, range(x - r, x), range(y, y - r, -1)] = 1.0\n",
    "            images[i, 0, range(x, x + r + 1), range(y + r, y - 1, -1)] = 1.0\n",
    "            images[i, 0, range(x, x + r), range(y - r, y)] = 1.0\n",
    "            # images += np.random.randn(*images.shape) * 0.5\n",
    "            T = np.ones((nEach * 2, 1))\n",
    "            T[nEach:] = 2\n",
    "    return images.astype(np.float32), T.astype(np.int)\n",
    "\n",
    "Xtrain, Ttrain = make_images(500)\n",
    "Xtest, Ttest = make_images(10)\n",
    "\n",
    "Xtrain.shape, Ttrain.shape, Xtest.shape, Ttest.shape"
   ]
  },
  {
   "cell_type": "code",
   "execution_count": 4,
   "metadata": {},
   "outputs": [
    {
     "data": {
      "text/plain": [
       "20"
      ]
     },
     "execution_count": 4,
     "metadata": {},
     "output_type": "execute_result"
    }
   ],
   "source": [
    "Xtrain.shape[2]"
   ]
  },
  {
   "cell_type": "code",
   "execution_count": 5,
   "metadata": {},
   "outputs": [],
   "source": [
    "nnet = NeuralNetwork_Convolutional(n_channels_in_image=Xtrain.shape[1],\n",
    "                                   image_size=Xtrain.shape[2],\n",
    "                                   n_units_in_conv_layers=[5], \n",
    "                                   kernels_size_and_stride=[[5, 2]], \n",
    "                                   n_units_in_fc_hidden_layers=[2], \n",
    "                                   classes=[1, 2],\n",
    "                                   use_gpu=False)\n",
    "\n",
    "nnet.train(Xtrain, Ttrain, 500, learning_rate=0.01)"
   ]
  },
  {
   "cell_type": "code",
   "execution_count": 6,
   "metadata": {},
   "outputs": [
    {
     "data": {
      "image/png": "[encoded data removed]",
      "text/plain": [
       "<Figure size 432x288 with 1 Axes>"
      ]
     },
     "metadata": {
      "needs_background": "light"
     },
     "output_type": "display_data"
    }
   ],
   "source": [
    "plt.plot(nnet.get_error_trace())\n",
    "plt.xlabel('Epochs')\n",
    "plt.ylabel('MSE');"
   ]
  },
  {
   "cell_type": "code",
   "execution_count": 7,
   "metadata": {},
   "outputs": [
    {
     "name": "stdout",
     "output_type": "stream",
     "text": [
      "20 out of 20 test samples correctly classified."
     ]
    }
   ],
   "source": [
    "Yclasses, Y = nnet.use(Xtest)\n",
    "\n",
    "print(f'{np.sum(Ttest == Yclasses)} out of {Ttest.shape[0]} test samples correctly classified.', end='')\n"
   ]
  },
  {
   "cell_type": "markdown",
   "metadata": {},
   "source": [
    "Let's see what the output of the convolutional layer produces, and the weight matrices of each unit that produce those output images.   Here are functions, `show_layer_output` and `show_layer_weights` that will do this for us."
   ]
  },
  {
   "cell_type": "code",
   "execution_count": 9,
   "metadata": {},
   "outputs": [],
   "source": [
    "import matplotlib.pyplot as plt\n",
    "\n",
    "def show_layer_output(nnet, X_sample, layer):\n",
    "    outputs = []\n",
    "    reg = nnet.nnet[layer * 2].register_forward_hook(\n",
    "        lambda self, i, o: outputs.append(o))\n",
    "    nnet.use(X_sample)\n",
    "    reg.remove()\n",
    "    output = outputs[0]\n",
    "\n",
    "    n_units = output.shape[1]\n",
    "    nplots = int(np.sqrt(n_units)) + 1\n",
    "    for unit in range(n_units):\n",
    "        plt.subplot(nplots, nplots, unit+1)\n",
    "        plt.imshow(output[0, unit, :, :].detach(),cmap='binary')\n",
    "        plt.axis('off')\n",
    "    return output\n",
    "\n",
    "def show_layer_weights(nnet, layer):\n",
    "    W = nnet.nnet[layer*2].weight.detach()\n",
    "    n_units = W.shape[0]\n",
    "    nplots = int(np.sqrt(n_units)) + 1\n",
    "    for unit in range(n_units):\n",
    "        plt.subplot(nplots, nplots, unit + 1)\n",
    "        plt.imshow(W[unit, 0, :, :], cmap='binary')\n",
    "        plt.axis('off')\n",
    "    return W"
   ]
  },
  {
   "cell_type": "code",
   "execution_count": 10,
   "metadata": {},
   "outputs": [
    {
     "data": {
      "text/plain": [
       "(-0.5, 19.5, 19.5, -0.5)"
      ]
     },
     "execution_count": 10,
     "metadata": {},
     "output_type": "execute_result"
    },
    {
     "data": {
      "image/png": "[encoded data removed]",
      "text/plain": [
       "<Figure size 432x288 with 1 Axes>"
      ]
     },
     "metadata": {
      "needs_background": "light"
     },
     "output_type": "display_data"
    }
   ],
   "source": [
    "X_sample = Xtest[0:1, :, :, :]\n",
    "plt.imshow(X_sample[0, 0, :, :], cmap='binary')\n",
    "plt.axis('off')"
   ]
  },
  {
   "cell_type": "code",
   "execution_count": 11,
   "metadata": {},
   "outputs": [
    {
     "data": {
      "image/png": "[encoded data removed]",
      "text/plain": [
       "<Figure size 432x288 with 5 Axes>"
      ]
     },
     "metadata": {
      "needs_background": "light"
     },
     "output_type": "display_data"
    }
   ],
   "source": [
    "show_layer_output(nnet, X_sample, 0);"
   ]
  },
  {
   "cell_type": "code",
   "execution_count": 12,
   "metadata": {},
   "outputs": [
    {
     "data": {
      "image/png": "[encoded data removed]",
      "text/plain": [
       "<Figure size 432x288 with 5 Axes>"
      ]
     },
     "metadata": {
      "needs_background": "light"
     },
     "output_type": "display_data"
    }
   ],
   "source": [
    "show_layer_weights(nnet, 0);"
   ]
  },
  {
   "cell_type": "markdown",
   "metadata": {},
   "source": [
    "## MNIST Digits\n",
    "\n",
    "Investigate the application of your code to the classification of MNIST digits, which you may download from [this site](http://deeplearning.net/tutorial/gettingstarted.html)."
   ]
  },
  {
   "cell_type": "code",
   "execution_count": 13,
   "metadata": {},
   "outputs": [],
   "source": [
    "import numpy as np\n",
    "import matplotlib.pyplot as plt\n",
    "import pickle, gzip\n",
    "\n",
    "# Load the dataset\n",
    "with gzip.open('mnist.pkl.gz', 'rb') as f:\n",
    "    train_set, valid_set, test_set = pickle.load(f, encoding='latin1')"
   ]
  },
  {
   "cell_type": "code",
   "execution_count": 14,
   "metadata": {},
   "outputs": [
    {
     "data": {
      "text/plain": [
       "((50000, 1, 28, 28), (50000,))"
      ]
     },
     "execution_count": 14,
     "metadata": {},
     "output_type": "execute_result"
    }
   ],
   "source": [
    "Xtrain = train_set[0]\n",
    "Ttrain = train_set[1]\n",
    "Xtest = test_set[0]\n",
    "Ttest = test_set[1]\n",
    "Xtrain = Xtrain.reshape(-1, 1, 28, 28)\n",
    "Xtest = Xtest.reshape(-1, 1, 28, 28)\n",
    "Ttest.reshape(-1)\n",
    "Xtrain.shape, Ttrain.shape"
   ]
  },
  {
   "cell_type": "code",
   "execution_count": 15,
   "metadata": {},
   "outputs": [
    {
     "data": {
      "text/plain": [
       "(28, 28)"
      ]
     },
     "execution_count": 15,
     "metadata": {},
     "output_type": "execute_result"
    }
   ],
   "source": [
    "a = Xtrain[0, :].reshape(28, 28)\n",
    "a.shape"
   ]
  },
  {
   "cell_type": "code",
   "execution_count": 16,
   "metadata": {
    "scrolled": true
   },
   "outputs": [
    {
     "data": {
      "image/png": "[encoded data removed]",
      "text/plain": [
       "<Figure size 432x288 with 7 Axes>"
      ]
     },
     "metadata": {
      "needs_background": "light"
     },
     "output_type": "display_data"
    }
   ],
   "source": [
    "for i in range(7):\n",
    "    plt.subplot(2, 5, i + 1)\n",
    "    plt.imshow(Xtrain[i, :].reshape(28, 28), cmap='binary')\n",
    "    plt.title(Ttrain[i])\n",
    "    plt.axis('off');"
   ]
  },
  {
   "cell_type": "markdown",
   "metadata": {},
   "source": [
    "### Running the Network"
   ]
  },
  {
   "cell_type": "code",
   "execution_count": 6,
   "metadata": {},
   "outputs": [
    {
     "name": "stdout",
     "output_type": "stream",
     "text": [
      "\n",
      "GPU is not available. Running on CPU.\n",
      "\n"
     ]
    }
   ],
   "source": [
    "nnet = NeuralNetwork_Convolutional(n_channels_in_image=Xtrain.shape[1],\n",
    "                                   image_size=Xtrain.shape[2],\n",
    "                                   n_units_in_conv_layers=[6 , 7],\n",
    "                                   kernels_size_and_stride=[[4, 2]], \n",
    "                                   n_units_in_fc_hidden_layers=[5], \n",
    "                                   classes=np.unique(Ttrain),\n",
    "                                   use_gpu=True)"
   ]
  },
  {
   "cell_type": "code",
   "execution_count": 7,
   "metadata": {},
   "outputs": [],
   "source": [
    "nnet.train(Xtrain, Ttrain, 300, learning_rate=0.01)"
   ]
  },
  {
   "cell_type": "code",
   "execution_count": 11,
   "metadata": {},
   "outputs": [
    {
     "name": "stdout",
     "output_type": "stream",
     "text": [
      "Testing   : 47745 out of 50000 (95.5%) samples correctly classified.\n",
      "Testing   :  9382 out of 10000 (93.8%) samples correctly classified.\n"
     ]
    },
    {
     "data": {
      "image/png": "[encoded data removed]",
      "text/plain": [
       "<Figure size 432x288 with 1 Axes>"
      ]
     },
     "metadata": {
      "needs_background": "light"
     },
     "output_type": "display_data"
    }
   ],
   "source": [
    "for name, X, T in (('Training', Xtrain, Ttrain),\n",
    "                   ('Testing', Xtest, Ttest)):\n",
    "    Y, _ = nnet.use(X)\n",
    "    T = T.reshape((-1, 1))\n",
    "    n_correct = np.sum(T == Y)\n",
    "    n = T.shape[0]\n",
    "    print(f'{name:10}: {n_correct:5d} out of {n:5d} ({n_correct / n * 100:.1f}%) samples correctly classified.')\n",
    "    \n",
    "plt.plot(nnet.get_error_trace())\n",
    "plt.xlabel('Epochs')\n",
    "plt.ylabel('MSE');"
   ]
  },
  {
   "cell_type": "markdown",
   "metadata": {},
   "source": [
    "### Diffirent Kernel size and Strides"
   ]
  },
  {
   "cell_type": "code",
   "execution_count": 25,
   "metadata": {},
   "outputs": [
    {
     "name": "stdout",
     "output_type": "stream",
     "text": [
      "\n",
      "GPU is not available. Running on CPU.\n",
      "\n"
     ]
    }
   ],
   "source": [
    "nnet = NeuralNetwork_Convolutional(n_channels_in_image=Xtrain.shape[1],\n",
    "                                   image_size=Xtrain.shape[2],\n",
    "                                   n_units_in_conv_layers=[6 , 7],\n",
    "                                   kernels_size_and_stride=[[5, 5]], \n",
    "                                   n_units_in_fc_hidden_layers=[5], \n",
    "                                   classes=np.unique(Ttrain),\n",
    "                                   use_gpu=True)"
   ]
  },
  {
   "cell_type": "code",
   "execution_count": 26,
   "metadata": {},
   "outputs": [],
   "source": [
    "nnet.train(Xtrain, Ttrain, 300, learning_rate=0.01)"
   ]
  },
  {
   "cell_type": "code",
   "execution_count": 27,
   "metadata": {},
   "outputs": [
    {
     "name": "stdout",
     "output_type": "stream",
     "text": [
      "Testing   : 44995 out of 50000 (90.0%) samples correctly classified.\n",
      "Testing   :  9002 out of 10000 (90.0%) samples correctly classified.\n"
     ]
    },
    {
     "data": {
      "image/png": "[encoded data removed]",
      "text/plain": [
       "<Figure size 432x288 with 1 Axes>"
      ]
     },
     "metadata": {
      "needs_background": "light"
     },
     "output_type": "display_data"
    }
   ],
   "source": [
    "for name, X, T in (('Training', Xtrain, Ttrain),\n",
    "                   ('Testing', Xtest, Ttest)):\n",
    "    Y, _ = nnet.use(X)\n",
    "    T = T.reshape((-1, 1))\n",
    "    n_correct = np.sum(T == Y)\n",
    "    n = T.shape[0]\n",
    "    print(f'{name:10}: {n_correct:5d} out of {n:5d} ({n_correct / n * 100:.1f}%) samples correctly classified.')\n",
    "    \n",
    "plt.plot(nnet.get_error_trace())\n",
    "plt.xlabel('Epochs')\n",
    "plt.ylabel('MSE');"
   ]
  },
  {
   "cell_type": "markdown",
   "metadata": {},
   "source": [
    "#### Discussion"
   ]
  },
  {
   "cell_type": "markdown",
   "metadata": {},
   "source": [
    "If the strides are high then the accuracy of classifying images drops proportional to the strides. It can be said the same with the kernel size, although it doesn't affect the image as significantly as the strides do. This is so probably because of the type of images we used."
   ]
  },
  {
   "cell_type": "markdown",
   "metadata": {},
   "source": [
    "### Different no. of Layers and Units"
   ]
  },
  {
   "cell_type": "code",
   "execution_count": 30,
   "metadata": {},
   "outputs": [
    {
     "name": "stdout",
     "output_type": "stream",
     "text": [
      "\n",
      "GPU is not available. Running on CPU.\n",
      "\n"
     ]
    }
   ],
   "source": [
    "nnet = NeuralNetwork_Convolutional(n_channels_in_image=Xtrain.shape[1],\n",
    "                                   image_size=Xtrain.shape[2],\n",
    "                                   n_units_in_conv_layers=[20 , 10 , 11],\n",
    "                                   kernels_size_and_stride=[[6, 1]], \n",
    "                                   n_units_in_fc_hidden_layers=[40 , 30], \n",
    "                                   classes=np.unique(Ttrain),\n",
    "                                   use_gpu=True)"
   ]
  },
  {
   "cell_type": "code",
   "execution_count": 31,
   "metadata": {},
   "outputs": [],
   "source": [
    "nnet.train(Xtrain, Ttrain, 300, learning_rate=0.01)"
   ]
  },
  {
   "cell_type": "code",
   "execution_count": 32,
   "metadata": {},
   "outputs": [
    {
     "name": "stdout",
     "output_type": "stream",
     "text": [
      "Testing   : 49947 out of 50000 (99.9%) samples correctly classified.\n",
      "Testing   :  9685 out of 10000 (96.9%) samples correctly classified.\n"
     ]
    },
    {
     "data": {
      "image/png": "[encoded data removed]",
      "text/plain": [
       "<Figure size 432x288 with 1 Axes>"
      ]
     },
     "metadata": {
      "needs_background": "light"
     },
     "output_type": "display_data"
    }
   ],
   "source": [
    "for name, X, T in (('Training', Xtrain, Ttrain),\n",
    "                   ('Testing', Xtest, Ttest)):\n",
    "    Y, _ = nnet.use(X)\n",
    "    T = T.reshape((-1, 1))\n",
    "    n_correct = np.sum(T == Y)\n",
    "    n = T.shape[0]\n",
    "    print(f'{name:10}: {n_correct:5d} out of {n:5d} ({n_correct / n * 100:.1f}%) samples correctly classified.')\n",
    "    \n",
    "plt.plot(nnet.get_error_trace())\n",
    "plt.xlabel('Epochs')\n",
    "plt.ylabel('MSE');"
   ]
  },
  {
   "cell_type": "markdown",
   "metadata": {},
   "source": [
    "#### Discussion"
   ]
  },
  {
   "cell_type": "markdown",
   "metadata": {},
   "source": [
    "If we increase the number of convolutional and hidden layers with more number of weights then the neural network perform significantly better with 99.9% correctly Tested images and ~97% correctly Trained images. \n",
    "\n",
    "For the network to run smoothly the number of weights of the layers need to be in three digits."
   ]
  },
  {
   "cell_type": "markdown",
   "metadata": {},
   "source": [
    "#### Different Learning rates and Epochs"
   ]
  },
  {
   "cell_type": "code",
   "execution_count": 20,
   "metadata": {},
   "outputs": [
    {
     "name": "stdout",
     "output_type": "stream",
     "text": [
      "\n",
      "GPU is not available. Running on CPU.\n",
      "\n"
     ]
    }
   ],
   "source": [
    "nnet = NeuralNetwork_Convolutional(n_channels_in_image=Xtrain.shape[1],\n",
    "                                   image_size=Xtrain.shape[2],\n",
    "                                   n_units_in_conv_layers=[6 , 7],\n",
    "                                   kernels_size_and_stride=[[5, 1]], \n",
    "                                   n_units_in_fc_hidden_layers=[5], \n",
    "                                   classes=np.unique(Ttrain),\n",
    "                                   use_gpu=True)"
   ]
  },
  {
   "cell_type": "code",
   "execution_count": 23,
   "metadata": {},
   "outputs": [],
   "source": [
    "nnet.train(Xtrain, Ttrain, 200, learning_rate=0.05)"
   ]
  },
  {
   "cell_type": "code",
   "execution_count": 24,
   "metadata": {},
   "outputs": [
    {
     "name": "stdout",
     "output_type": "stream",
     "text": [
      "Testing   : 47715 out of 50000 (95.4%) samples correctly classified.\n",
      "Testing   :  9365 out of 10000 (93.7%) samples correctly classified.\n"
     ]
    },
    {
     "data": {
      "image/png": "[encoded data removed]",
      "text/plain": [
       "<Figure size 432x288 with 1 Axes>"
      ]
     },
     "metadata": {
      "needs_background": "light"
     },
     "output_type": "display_data"
    }
   ],
   "source": [
    "for X, T in ((Xtrain, Ttrain),\n",
    "                   (Xtest, Ttest)):\n",
    "    Y, _ = nnet.use(X)\n",
    "    T = T.reshape((-1, 1))\n",
    "    n_correct = np.sum(T == Y)\n",
    "    n = T.shape[0]\n",
    "    print(f'{name:10}: {n_correct:5d} out of {n:5d} ({n_correct / n * 100:.1f}%) samples correctly classified.')\n",
    "    \n",
    "plt.plot(nnet.get_error_trace())\n",
    "plt.xlabel('Epochs')\n",
    "plt.ylabel('MSE');"
   ]
  },
  {
   "cell_type": "markdown",
   "metadata": {},
   "source": [
    "#### Discussion"
   ]
  },
  {
   "cell_type": "markdown",
   "metadata": {},
   "source": [
    "The learning rates if are inbetween 0.01 and 0.08 the neural network's classification is well above 90% but if to either increase or decrease outside the upper bound and lower bound respectively then the accuracy drops quite significantly to well below 50%"
   ]
  },
  {
   "cell_type": "markdown",
   "metadata": {},
   "source": [
    "# Grading\n",
    "\n",
    "Download [A4grader.zip](https://www.cs.colostate.edu/~anderson/cs545/notebooks/A4grader.zip) and extract A4grader.py from it. "
   ]
  },
  {
   "cell_type": "code",
   "execution_count": 17,
   "metadata": {},
   "outputs": [
    {
     "name": "stdout",
     "output_type": "stream",
     "text": [
      "\n",
      "======================= Code Execution =======================\n",
      "\n",
      "Extracting python code from notebook named 'Tamidapati-A4.ipynb' and storing in notebookcode.py\n",
      "Removing all statements that are not function or class defs or import statements.\n",
      "\n",
      "Testing if your NeuralNetwork_Convolutional can learn to classify a small \n",
      "subset of hand_drawn 0, 1, and 2 digits.\n",
      "\n",
      "import numpy as np\n",
      "import pickle, gzip\n",
      "\n",
      "# Load the dataset\n",
      "with gzip.open('mnist.pkl.gz', 'rb') as f:\n",
      "    train_set, valid_set, test_set = pickle.load(f, encoding='latin1')\n",
      "Xtest = test_set[0]\n",
      "traini = [3,  10,  13,  25,  28,  55,  69,  71, 101, 126, 2,   5,  14,  29,  31,  37,  39,  40,  46,  57, 1,  35,  38,  43,  47,  72,  77,  82, 106, 119]\n",
      "testi = [136, 148, 157, 183, 188, 192, 194, 215, 246, 269,  74,  89,  94, 96, 107, 135, 137, 143, 145, 154, 147, 149, 172, 174, 186, 199, 208, 221, 222, 225]\n",
      "Xtrain = test_set[0][traini, :].reshape(-1, 1, 28, 28)\n",
      "Ttrain = test_set[1][traini].reshape(-1, 1)\n",
      "Xtest = test_set[0][testi, :].reshape(-1, 1, 28, 28)\n",
      "Ttest = test_set[1][testi].reshape(-1, 1)\n",
      "\n",
      "torch.random.manual_seed(42)\n",
      "\n",
      "nnet = NeuralNetwork_Convolutional(n_channels_in_image=Xtrain.shape[1],\n",
      "                                   image_size=Xtrain.shape[2],\n",
      "                                   n_units_in_conv_layers=[5, 5],\n",
      "                                   kernels_size_and_stride=[[5, 3], [4, 2]],\n",
      "                                   n_units_in_fc_hidden_layers=[10],\n",
      "                                   classes=[0, 1, 2],\n",
      "                                   use_gpu=False)\n",
      "\n",
      "nnet.train(Xtrain, Ttrain, 20, learning_rate=0.01)\n",
      "Yclasses, Y = nnet.use(Xtest)\n",
      "n_correct = (Yclasses == Ttest).sum()\n",
      "print(f'{n_correct} out of {Ttest.shape[0]} samples, or {n_correct/Ttest.shape[0]*100:.2f} percent.')\n",
      "\n",
      "27 out of 30 samples, or 90.00 percent.\n",
      "\n",
      "--- 80/80 points. Returned correct value of 27.\n",
      "\n",
      "Testing \n",
      "errors = nnet.get_error_trace()\n",
      "\n",
      "\n",
      "--- 10/10 points. Returned correct number of errors in error_trace.\n",
      "\n",
      "======================================================================\n",
      "CS545 Execution Grade is 90 / 90\n",
      "======================================================================\n",
      "\n",
      " __ / 10 You show results for at least 10 different runs having various\n",
      "values for number of layers, units, and epochs for modeling MNIST data.\n",
      "You must show percent correct for train, validation and test sets for each run.\n",
      "Discuss your results. \n",
      "\n",
      "======================================================================\n",
      "CS545 FINAL GRADE is  _  / 100\n",
      "======================================================================\n",
      "\n",
      "Extra Credit:\n",
      "1. For one of your runs, display the output images of your convolutional layers \n",
      "   and the weights for those layers.  Discuss what you see.  Describe why the\n",
      "   displayed weight patterns result in the output images of the first convolutional\n",
      "   layer.\n",
      "2. Make at least one of your runs on a workstation with a GPU and run with use_gpu=True.\n",
      "   Also run it with use_gpu=False.  Discuss the differences in training times.\n",
      "\n",
      "CS545 EXTRA CREDIT is 0 / 2\n"
     ]
    }
   ],
   "source": [
    "%run -i A4grader.py"
   ]
  },
  {
   "cell_type": "code",
   "execution_count": null,
   "metadata": {},
   "outputs": [],
   "source": []
  }
 ],
 "metadata": {
  "kernelspec": {
   "display_name": "Python 3",
   "language": "python",
   "name": "python3"
  },
  "language_info": {
   "codemirror_mode": {
    "name": "ipython",
    "version": 3
   },
   "file_extension": ".py",
   "mimetype": "text/x-python",
   "name": "python",
   "nbconvert_exporter": "python",
   "pygments_lexer": "ipython3",
   "version": "3.7.3"
  }
 },
 "nbformat": 4,
 "nbformat_minor": 2
}
