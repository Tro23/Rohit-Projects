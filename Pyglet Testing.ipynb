{
 "cells": [
  {
   "cell_type": "markdown",
   "metadata": {},
   "source": [
    "## Testing Pyglet"
   ]
  },
  {
   "cell_type": "code",
   "execution_count": 1,
   "metadata": {},
   "outputs": [],
   "source": [
    "\n",
    "import math\n",
    "import pyglet\n",
    "import numpy as np\n",
    "from pyglet.gl import *\n",
    "\n",
    "win = pyglet.window.Window()\n",
    "\n",
    "# get all the points in a circle centered at 0.\n",
    "def PointsInCircum(r, n=25, pi=3.14):\n",
    "    return [(math.cos(2*pi/n*x)*r,math.sin(2*pi/n*x)*r) for x in range(0,n+1)]\n",
    "pts = np.array(PointsInCircum(20))\n",
    "\n",
    "# function that increments to the next\n",
    "# point along a circle\n",
    "frame = 0\n",
    "def update_frame(x, y):\n",
    "    global frame\n",
    "    if frame == None or frame == pts.shape[0]-1:\n",
    "        frame = 0\n",
    "    else:\n",
    "        frame += 1\n",
    "\n",
    "@win.event\n",
    "def on_draw():\n",
    "    # clear the screen\n",
    "    glClear(GL_COLOR_BUFFER_BIT)\n",
    "    # draw the next line\n",
    "    # in the circle animation\n",
    "    # circle centered at 100,100,0 = x,y,z\n",
    "    glBegin(GL_LINES)\n",
    "    glVertex3f(100,100,0)\n",
    "    glVertex3f(pts[frame][1]+100,pts[frame][0]+100,0)\n",
    "    glEnd()\n",
    "\n",
    "# every 1/10 th get the next frame\n",
    "pyglet.clock.schedule(update_frame, 1/10.0)\n",
    "pyglet.app.run()"
   ]
  },
  {
   "cell_type": "code",
   "execution_count": null,
   "metadata": {},
   "outputs": [],
   "source": []
  }
 ],
 "metadata": {
  "kernelspec": {
   "display_name": "Python 3",
   "language": "python",
   "name": "python3"
  },
  "language_info": {
   "codemirror_mode": {
    "name": "ipython",
    "version": 3
   },
   "file_extension": ".py",
   "mimetype": "text/x-python",
   "name": "python",
   "nbconvert_exporter": "python",
   "pygments_lexer": "ipython3",
   "version": "3.7.6"
  }
 },
 "nbformat": 4,
 "nbformat_minor": 4
}
